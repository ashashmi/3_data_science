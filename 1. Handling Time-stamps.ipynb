{
 "cells": [
  {
   "cell_type": "code",
   "execution_count": 1,
   "metadata": {},
   "outputs": [],
   "source": [
    "# Stages of Data Cleaning\n",
    "# 1. Parse date/time (if time-stamps present)\n",
    "# 2. Drop un-necessary columns (for machine learning) like ID, etc.\n",
    "# 3. Feature Engineering (derive new features from existing features)\n",
    "# 4. Data imputation: Fill the missing values (with mode, median, mean, etc.) OR Drop rows with missing values\n",
    "# 3. Handling class imbalance: oversampling e.g. SMOTE, ADASYN \n",
    "# 5. One Hot Encoding of categorical features\n",
    "# 6. Normalization (0-1) / Standarization (mean=0, SD=1)\n",
    "# 7. PDimensionality Reduction: Feature Transformation (PCA/t-SNE) or Feature selection (chiq-square test, RFE, etc. )\n",
    "# After data cleaning we can perform:\n",
    "# Data Modeling (Machine Learning + Regularization) with Hyper-parameter Tuning (Grid search)\n",
    "# Model Evaluation (Accuracy, Precision, F1 score, Confusion Matrix, AUC) and Visualization"
   ]
  },
  {
   "cell_type": "code",
   "execution_count": 2,
   "metadata": {},
   "outputs": [],
   "source": [
    "import datetime\n",
    "import pandas as pd"
   ]
  },
  {
   "cell_type": "code",
   "execution_count": 3,
   "metadata": {},
   "outputs": [
    {
     "name": "stdout",
     "output_type": "stream",
     "text": [
      "<class 'pandas.core.frame.DataFrame'>\n",
      "RangeIndex: 541909 entries, 0 to 541908\n",
      "Data columns (total 8 columns):\n",
      " #   Column       Non-Null Count   Dtype         \n",
      "---  ------       --------------   -----         \n",
      " 0   InvoiceNo    541909 non-null  int64         \n",
      " 1   StockCode    541909 non-null  object        \n",
      " 2   Description  540455 non-null  object        \n",
      " 3   Quantity     541909 non-null  int64         \n",
      " 4   InvoiceDate  541909 non-null  datetime64[ns]\n",
      " 5   UnitPrice    541909 non-null  float64       \n",
      " 6   CustomerID   406829 non-null  float64       \n",
      " 7   Country      541909 non-null  object        \n",
      "dtypes: datetime64[ns](1), float64(2), int64(2), object(3)\n",
      "memory usage: 33.1+ MB\n"
     ]
    }
   ],
   "source": [
    "df = pd.read_excel(\"online_retail.xlsx\", sheet_name='data', parse_dates=['InvoiceDate'])\n",
    "df.info() # this will help us know the datetime columns which need to be parsed  "
   ]
  },
  {
   "cell_type": "code",
   "execution_count": 4,
   "metadata": {},
   "outputs": [
    {
     "data": {
      "text/html": [
       "<div>\n",
       "<style scoped>\n",
       "    .dataframe tbody tr th:only-of-type {\n",
       "        vertical-align: middle;\n",
       "    }\n",
       "\n",
       "    .dataframe tbody tr th {\n",
       "        vertical-align: top;\n",
       "    }\n",
       "\n",
       "    .dataframe thead th {\n",
       "        text-align: right;\n",
       "    }\n",
       "</style>\n",
       "<table border=\"1\" class=\"dataframe\">\n",
       "  <thead>\n",
       "    <tr style=\"text-align: right;\">\n",
       "      <th></th>\n",
       "      <th>0</th>\n",
       "      <th>1</th>\n",
       "      <th>2</th>\n",
       "      <th>3</th>\n",
       "      <th>4</th>\n",
       "    </tr>\n",
       "  </thead>\n",
       "  <tbody>\n",
       "    <tr>\n",
       "      <th>InvoiceNo</th>\n",
       "      <td>536365</td>\n",
       "      <td>536365</td>\n",
       "      <td>536365</td>\n",
       "      <td>536365</td>\n",
       "      <td>536365</td>\n",
       "    </tr>\n",
       "    <tr>\n",
       "      <th>StockCode</th>\n",
       "      <td>85123A</td>\n",
       "      <td>71053</td>\n",
       "      <td>84406B</td>\n",
       "      <td>84029G</td>\n",
       "      <td>84029E</td>\n",
       "    </tr>\n",
       "    <tr>\n",
       "      <th>Description</th>\n",
       "      <td>WHITE HANGING HEART T-LIGHT HOLDER</td>\n",
       "      <td>WHITE METAL LANTERN</td>\n",
       "      <td>CREAM CUPID HEARTS COAT HANGER</td>\n",
       "      <td>KNITTED UNION FLAG HOT WATER BOTTLE</td>\n",
       "      <td>RED WOOLLY HOTTIE WHITE HEART.</td>\n",
       "    </tr>\n",
       "    <tr>\n",
       "      <th>Quantity</th>\n",
       "      <td>6</td>\n",
       "      <td>6</td>\n",
       "      <td>8</td>\n",
       "      <td>6</td>\n",
       "      <td>6</td>\n",
       "    </tr>\n",
       "    <tr>\n",
       "      <th>InvoiceDate</th>\n",
       "      <td>2010-12-01 08:26:00</td>\n",
       "      <td>2010-12-01 08:26:00</td>\n",
       "      <td>2010-12-01 08:26:00</td>\n",
       "      <td>2010-12-01 08:26:00</td>\n",
       "      <td>2010-12-01 08:26:00</td>\n",
       "    </tr>\n",
       "    <tr>\n",
       "      <th>UnitPrice</th>\n",
       "      <td>2.55</td>\n",
       "      <td>3.39</td>\n",
       "      <td>2.75</td>\n",
       "      <td>3.39</td>\n",
       "      <td>3.39</td>\n",
       "    </tr>\n",
       "    <tr>\n",
       "      <th>CustomerID</th>\n",
       "      <td>17850.0</td>\n",
       "      <td>17850.0</td>\n",
       "      <td>17850.0</td>\n",
       "      <td>17850.0</td>\n",
       "      <td>17850.0</td>\n",
       "    </tr>\n",
       "    <tr>\n",
       "      <th>Country</th>\n",
       "      <td>United Kingdom</td>\n",
       "      <td>United Kingdom</td>\n",
       "      <td>United Kingdom</td>\n",
       "      <td>United Kingdom</td>\n",
       "      <td>United Kingdom</td>\n",
       "    </tr>\n",
       "  </tbody>\n",
       "</table>\n",
       "</div>"
      ],
      "text/plain": [
       "                                              0                    1  \\\n",
       "InvoiceNo                                536365               536365   \n",
       "StockCode                                85123A                71053   \n",
       "Description  WHITE HANGING HEART T-LIGHT HOLDER  WHITE METAL LANTERN   \n",
       "Quantity                                      6                    6   \n",
       "InvoiceDate                 2010-12-01 08:26:00  2010-12-01 08:26:00   \n",
       "UnitPrice                                  2.55                 3.39   \n",
       "CustomerID                              17850.0              17850.0   \n",
       "Country                          United Kingdom       United Kingdom   \n",
       "\n",
       "                                          2  \\\n",
       "InvoiceNo                            536365   \n",
       "StockCode                            84406B   \n",
       "Description  CREAM CUPID HEARTS COAT HANGER   \n",
       "Quantity                                  8   \n",
       "InvoiceDate             2010-12-01 08:26:00   \n",
       "UnitPrice                              2.75   \n",
       "CustomerID                          17850.0   \n",
       "Country                      United Kingdom   \n",
       "\n",
       "                                               3  \\\n",
       "InvoiceNo                                 536365   \n",
       "StockCode                                 84029G   \n",
       "Description  KNITTED UNION FLAG HOT WATER BOTTLE   \n",
       "Quantity                                       6   \n",
       "InvoiceDate                  2010-12-01 08:26:00   \n",
       "UnitPrice                                   3.39   \n",
       "CustomerID                               17850.0   \n",
       "Country                           United Kingdom   \n",
       "\n",
       "                                          4  \n",
       "InvoiceNo                            536365  \n",
       "StockCode                            84029E  \n",
       "Description  RED WOOLLY HOTTIE WHITE HEART.  \n",
       "Quantity                                  6  \n",
       "InvoiceDate             2010-12-01 08:26:00  \n",
       "UnitPrice                              3.39  \n",
       "CustomerID                          17850.0  \n",
       "Country                      United Kingdom  "
      ]
     },
     "execution_count": 4,
     "metadata": {},
     "output_type": "execute_result"
    }
   ],
   "source": [
    "df.head(5).transpose()"
   ]
  },
  {
   "cell_type": "code",
   "execution_count": 5,
   "metadata": {},
   "outputs": [
    {
     "name": "stdout",
     "output_type": "stream",
     "text": [
      "Shape of dataset:  (541909, 8)\n"
     ]
    }
   ],
   "source": [
    "print(\"Shape of dataset: \", df.shape)"
   ]
  },
  {
   "cell_type": "code",
   "execution_count": 6,
   "metadata": {},
   "outputs": [
    {
     "name": "stdout",
     "output_type": "stream",
     "text": [
      "Total customers:  4373\n"
     ]
    }
   ],
   "source": [
    "total_customers=len(df['CustomerID'].unique())\n",
    "print(\"Total customers: \", total_customers)"
   ]
  },
  {
   "cell_type": "code",
   "execution_count": 7,
   "metadata": {},
   "outputs": [
    {
     "data": {
      "text/html": [
       "<div>\n",
       "<style scoped>\n",
       "    .dataframe tbody tr th:only-of-type {\n",
       "        vertical-align: middle;\n",
       "    }\n",
       "\n",
       "    .dataframe tbody tr th {\n",
       "        vertical-align: top;\n",
       "    }\n",
       "\n",
       "    .dataframe thead th {\n",
       "        text-align: right;\n",
       "    }\n",
       "</style>\n",
       "<table border=\"1\" class=\"dataframe\">\n",
       "  <thead>\n",
       "    <tr style=\"text-align: right;\">\n",
       "      <th></th>\n",
       "      <th>0</th>\n",
       "      <th>1</th>\n",
       "      <th>2</th>\n",
       "      <th>3</th>\n",
       "      <th>4</th>\n",
       "    </tr>\n",
       "  </thead>\n",
       "  <tbody>\n",
       "    <tr>\n",
       "      <th>InvoiceNo</th>\n",
       "      <td>536365</td>\n",
       "      <td>536365</td>\n",
       "      <td>536365</td>\n",
       "      <td>536365</td>\n",
       "      <td>536365</td>\n",
       "    </tr>\n",
       "    <tr>\n",
       "      <th>StockCode</th>\n",
       "      <td>85123A</td>\n",
       "      <td>71053</td>\n",
       "      <td>84406B</td>\n",
       "      <td>84029G</td>\n",
       "      <td>84029E</td>\n",
       "    </tr>\n",
       "    <tr>\n",
       "      <th>Description</th>\n",
       "      <td>WHITE HANGING HEART T-LIGHT HOLDER</td>\n",
       "      <td>WHITE METAL LANTERN</td>\n",
       "      <td>CREAM CUPID HEARTS COAT HANGER</td>\n",
       "      <td>KNITTED UNION FLAG HOT WATER BOTTLE</td>\n",
       "      <td>RED WOOLLY HOTTIE WHITE HEART.</td>\n",
       "    </tr>\n",
       "    <tr>\n",
       "      <th>Quantity</th>\n",
       "      <td>6</td>\n",
       "      <td>6</td>\n",
       "      <td>8</td>\n",
       "      <td>6</td>\n",
       "      <td>6</td>\n",
       "    </tr>\n",
       "    <tr>\n",
       "      <th>InvoiceDate</th>\n",
       "      <td>2010-12-01 08:26:00</td>\n",
       "      <td>2010-12-01 08:26:00</td>\n",
       "      <td>2010-12-01 08:26:00</td>\n",
       "      <td>2010-12-01 08:26:00</td>\n",
       "      <td>2010-12-01 08:26:00</td>\n",
       "    </tr>\n",
       "    <tr>\n",
       "      <th>UnitPrice</th>\n",
       "      <td>2.55</td>\n",
       "      <td>3.39</td>\n",
       "      <td>2.75</td>\n",
       "      <td>3.39</td>\n",
       "      <td>3.39</td>\n",
       "    </tr>\n",
       "    <tr>\n",
       "      <th>CustomerID</th>\n",
       "      <td>17850.0</td>\n",
       "      <td>17850.0</td>\n",
       "      <td>17850.0</td>\n",
       "      <td>17850.0</td>\n",
       "      <td>17850.0</td>\n",
       "    </tr>\n",
       "    <tr>\n",
       "      <th>Country</th>\n",
       "      <td>United Kingdom</td>\n",
       "      <td>United Kingdom</td>\n",
       "      <td>United Kingdom</td>\n",
       "      <td>United Kingdom</td>\n",
       "      <td>United Kingdom</td>\n",
       "    </tr>\n",
       "    <tr>\n",
       "      <th>Date</th>\n",
       "      <td>2010-12-01</td>\n",
       "      <td>2010-12-01</td>\n",
       "      <td>2010-12-01</td>\n",
       "      <td>2010-12-01</td>\n",
       "      <td>2010-12-01</td>\n",
       "    </tr>\n",
       "  </tbody>\n",
       "</table>\n",
       "</div>"
      ],
      "text/plain": [
       "                                              0                    1  \\\n",
       "InvoiceNo                                536365               536365   \n",
       "StockCode                                85123A                71053   \n",
       "Description  WHITE HANGING HEART T-LIGHT HOLDER  WHITE METAL LANTERN   \n",
       "Quantity                                      6                    6   \n",
       "InvoiceDate                 2010-12-01 08:26:00  2010-12-01 08:26:00   \n",
       "UnitPrice                                  2.55                 3.39   \n",
       "CustomerID                              17850.0              17850.0   \n",
       "Country                          United Kingdom       United Kingdom   \n",
       "Date                                 2010-12-01           2010-12-01   \n",
       "\n",
       "                                          2  \\\n",
       "InvoiceNo                            536365   \n",
       "StockCode                            84406B   \n",
       "Description  CREAM CUPID HEARTS COAT HANGER   \n",
       "Quantity                                  8   \n",
       "InvoiceDate             2010-12-01 08:26:00   \n",
       "UnitPrice                              2.75   \n",
       "CustomerID                          17850.0   \n",
       "Country                      United Kingdom   \n",
       "Date                             2010-12-01   \n",
       "\n",
       "                                               3  \\\n",
       "InvoiceNo                                 536365   \n",
       "StockCode                                 84029G   \n",
       "Description  KNITTED UNION FLAG HOT WATER BOTTLE   \n",
       "Quantity                                       6   \n",
       "InvoiceDate                  2010-12-01 08:26:00   \n",
       "UnitPrice                                   3.39   \n",
       "CustomerID                               17850.0   \n",
       "Country                           United Kingdom   \n",
       "Date                                  2010-12-01   \n",
       "\n",
       "                                          4  \n",
       "InvoiceNo                            536365  \n",
       "StockCode                            84029E  \n",
       "Description  RED WOOLLY HOTTIE WHITE HEART.  \n",
       "Quantity                                  6  \n",
       "InvoiceDate             2010-12-01 08:26:00  \n",
       "UnitPrice                              3.39  \n",
       "CustomerID                          17850.0  \n",
       "Country                      United Kingdom  \n",
       "Date                             2010-12-01  "
      ]
     },
     "execution_count": 7,
     "metadata": {},
     "output_type": "execute_result"
    }
   ],
   "source": [
    "df['Date']=[d.date() for d in df['InvoiceDate']]\n",
    "df.head(5).transpose()"
   ]
  },
  {
   "cell_type": "code",
   "execution_count": 8,
   "metadata": {},
   "outputs": [
    {
     "name": "stdout",
     "output_type": "stream",
     "text": [
      "Total transactions per date:\n",
      " 2011-12-05    5331\n",
      "2011-12-08    4940\n",
      "2011-11-29    4313\n",
      "2011-11-16    4195\n",
      "2011-11-11    4089\n",
      "              ... \n",
      "2011-03-13     537\n",
      "2010-12-19     522\n",
      "2011-05-01     452\n",
      "2010-12-22     291\n",
      "2011-02-06     279\n",
      "Name: Date, Length: 305, dtype: int64\n"
     ]
    }
   ],
   "source": [
    "x=df['Date'].value_counts()\n",
    "print(\"Total transactions per date:\\n\",x)"
   ]
  },
  {
   "cell_type": "code",
   "execution_count": 9,
   "metadata": {},
   "outputs": [
    {
     "name": "stdout",
     "output_type": "stream",
     "text": [
      "                                              0                    1\n",
      "InvoiceNo                                536365               536365\n",
      "StockCode                                85123A                71053\n",
      "Description  WHITE HANGING HEART T-LIGHT HOLDER  WHITE METAL LANTERN\n",
      "Quantity                                      6                    6\n",
      "InvoiceDate                 2010-12-01 08:26:00  2010-12-01 08:26:00\n",
      "UnitPrice                                  2.55                 3.39\n",
      "CustomerID                              17850.0              17850.0\n",
      "Country                          United Kingdom       United Kingdom\n",
      "Date                                 2010-12-01           2010-12-01\n",
      "year                                       2010                 2010\n",
      "month                                        12                   12\n",
      "day                                           1                    1\n",
      "day_name                                      2                    2\n",
      "hour                                          8                    8\n",
      "minute                                       26                   26\n"
     ]
    }
   ],
   "source": [
    "df['year'] = df['InvoiceDate'].dt.year.astype(int)\n",
    "df['month'] = df['InvoiceDate'].dt.month.astype(int)\n",
    "df['day'] = df['InvoiceDate'].dt.day.astype(int)\n",
    "df['day_name'] = df['InvoiceDate'].dt.weekday\n",
    "df['hour'] = df['InvoiceDate'].dt.hour.astype(int)\n",
    "df['minute'] = df['InvoiceDate'].dt.minute.astype(int)\n",
    "print(df.head(2).transpose())"
   ]
  },
  {
   "cell_type": "code",
   "execution_count": 10,
   "metadata": {},
   "outputs": [
    {
     "name": "stdout",
     "output_type": "stream",
     "text": [
      "                                              0                    1\n",
      "InvoiceNo                                536365               536365\n",
      "StockCode                                85123A                71053\n",
      "Description  WHITE HANGING HEART T-LIGHT HOLDER  WHITE METAL LANTERN\n",
      "Quantity                                      6                    6\n",
      "InvoiceDate                 2010-12-01 08:26:00  2010-12-01 08:26:00\n",
      "UnitPrice                                  2.55                 3.39\n",
      "CustomerID                              17850.0              17850.0\n",
      "Country                          United Kingdom       United Kingdom\n",
      "Date                                 2010-12-01           2010-12-01\n",
      "year                                       2010                 2010\n",
      "month                                        12                   12\n",
      "day                                           1                    1\n",
      "day_name                                      2                    2\n",
      "hour                                          8                    8\n",
      "minute                                       26                   26\n",
      "active                                        0                    0\n"
     ]
    }
   ],
   "source": [
    "# transactions of last 30 days\n",
    "date_cutoff = df['InvoiceDate'].max() - datetime.timedelta(30, 0, 0)\n",
    "df['active'] = (df['InvoiceDate'] > date_cutoff).astype(int)\n",
    "print(df.head(2).transpose())"
   ]
  },
  {
   "cell_type": "code",
   "execution_count": 11,
   "metadata": {},
   "outputs": [
    {
     "name": "stdout",
     "output_type": "stream",
     "text": [
      "   InvoiceNo  Quantity         InvoiceDate  CustomerID        Date  day_name  \\\n",
      "0     536365         6 2010-12-01 08:26:00     17850.0  2010-12-01         2   \n",
      "1     536365         6 2010-12-01 08:26:00     17850.0  2010-12-01         2   \n",
      "2     536365         8 2010-12-01 08:26:00     17850.0  2010-12-01         2   \n",
      "3     536365         6 2010-12-01 08:26:00     17850.0  2010-12-01         2   \n",
      "4     536365         6 2010-12-01 08:26:00     17850.0  2010-12-01         2   \n",
      "\n",
      "   active  \n",
      "0       0  \n",
      "1       0  \n",
      "2       0  \n",
      "3       0  \n",
      "4       0  \n"
     ]
    }
   ],
   "source": [
    "df = df.drop([\"Country\", \"UnitPrice\", \"StockCode\", \"Description\"], axis=1)\n",
    "df = df.drop([\"year\", \"month\", \"day\", \"hour\", \"minute\"], axis=1)\n",
    "print(df.head(5))"
   ]
  },
  {
   "cell_type": "code",
   "execution_count": null,
   "metadata": {},
   "outputs": [],
   "source": []
  }
 ],
 "metadata": {
  "kernelspec": {
   "display_name": "Python 3 (ipykernel)",
   "language": "python",
   "name": "python3"
  },
  "language_info": {
   "codemirror_mode": {
    "name": "ipython",
    "version": 3
   },
   "file_extension": ".py",
   "mimetype": "text/x-python",
   "name": "python",
   "nbconvert_exporter": "python",
   "pygments_lexer": "ipython3",
   "version": "3.9.7"
  }
 },
 "nbformat": 4,
 "nbformat_minor": 2
}
